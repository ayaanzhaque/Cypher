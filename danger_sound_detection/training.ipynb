{
 "cells": [
  {
   "cell_type": "code",
   "execution_count": null,
   "metadata": {},
   "outputs": [],
   "source": []
  },
  {
   "cell_type": "code",
   "execution_count": null,
   "metadata": {},
   "outputs": [],
   "source": [
    "max_length = 4 # length (in seconds) of input\n",
    "desired_sr = 16000 # sampling rate to use\n",
    "mic_sr = 16000 # rate supported by Sampling library like PDM\n",
    "desired_samples = max_length*desired_sr # total number of samples in input\n",
    "\n",
    "tf.random.set_seed(0)\n",
    "np.random.seed(0)\n",
    "os.environ['PYTHONHASHSEED'] = '0'"
   ]
  },
  {
   "cell_type": "code",
   "execution_count": null,
   "metadata": {},
   "outputs": [],
   "source": [
    "#Processing the data\n",
    "dataset_min = 0.0\n",
    "dataset_max = 1.0\n",
    "\n",
    "def denormalize_dataset(input_val):\n",
    "  global dataset_min, dataset_max\n",
    "  return input_val * (dataset_max - dataset_min)\n",
    "\n",
    "#Function to normalize input values\n",
    "def normalize_dataset(input_val):\n",
    "  global dataset_min, dataset_max\n",
    "  dataset_min = np.min(input_val) \n",
    "  dataset_max = np.max(input_val) \n",
    "\n",
    "  diff = dataset_max - dataset_min\n",
    "  if (diff != 0):\n",
    "    input_val /= diff\n",
    "  return input_val\n",
    "\n",
    "def interpolateAudio(audio):\n",
    "    factor = float(mic_sr)/desired_sr\n",
    "    x_interp_values = []\n",
    "    for i in range(len(audio)):\n",
    "        x_interp_values.append(int(factor*i))\n",
    "    audio_interpolated = np.interp(range(int(len(audio)*factor)), x_interp_values, audio)\n",
    "\n",
    "    return mic_sr, audio_interpolated"
   ]
  }
 ],
 "metadata": {
  "kernelspec": {
   "display_name": "Python 3",
   "language": "python",
   "name": "python3"
  },
  "language_info": {
   "codemirror_mode": {
    "name": "ipython",
    "version": 3
   },
   "file_extension": ".py",
   "mimetype": "text/x-python",
   "name": "python",
   "nbconvert_exporter": "python",
   "pygments_lexer": "ipython3",
   "version": "3.7.6"
  }
 },
 "nbformat": 4,
 "nbformat_minor": 4
}
